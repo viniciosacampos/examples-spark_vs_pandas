{
 "cells": [
  {
   "cell_type": "markdown",
   "metadata": {},
   "source": [
    "# Basic program ETL Spark ( load, fix data types, fix duplicity, write and read) for running all steps you need go menu Cell/RunAll\n",
    "\n",
    "# *\n",
    "\n",
    "# Starting\n",
    "\n",
    "# *\n",
    "\n",
    "\n",
    "\n"
   ]
  },
  {
   "cell_type": "markdown",
   "metadata": {},
   "source": [
    "## Import librarys and initial Spark "
   ]
  },
  {
   "cell_type": "code",
   "execution_count": 1,
   "metadata": {},
   "outputs": [
    {
     "name": "stdout",
     "output_type": "stream",
     "text": [
      "<SparkContext master=local appName=ETL>\n",
      "<pyspark.sql.context.SQLContext object at 0x7fa8300fe150>\n"
     ]
    }
   ],
   "source": [
    "from pyspark import SparkConf, SparkContext, SQLContext\n",
    "from pyspark.sql import functions as F\n",
    "from pyspark.sql import Window\n",
    "import uuid\n",
    "from datetime import datetime\n",
    "conf = SparkConf().setAppName(\"ETL\").setMaster(\"local\")\n",
    "sc = SparkContext(conf=conf)\n",
    "spark = SQLContext(sc)\n",
    "logger = spark._jvm.org.apache.log4j\n",
    "print(sc)\n",
    "print(spark)"
   ]
  },
  {
   "cell_type": "markdown",
   "metadata": {},
   "source": [
    "## Method for convert data types from according map"
   ]
  },
  {
   "cell_type": "code",
   "execution_count": 2,
   "metadata": {},
   "outputs": [],
   "source": [
    "def fix_dtypes(df, list_col_dtypes):\n",
    "\n",
    "    dtypes = df.dtypes\n",
    "    for row in dtypes:\n",
    "        column = row[0]\n",
    "        _dtypes = list_col_dtypes.get(column)\n",
    "        if _dtypes is None:\n",
    "            raise Exception(\"Column {} type {} doesn't in mapping, please verify.\".format(column, _dtypes))\n",
    "\n",
    "        if (_dtypes in [\"double\", \"integer\", \"float\"]) | (_dtypes.find(\"decimal\") >= 0):\n",
    "            df = df.withColumn(column, F.when(F.trim(F.col(column)).isNull(), \"0\")\n",
    "                               .otherwise(F.trim(F.col(column))))\n",
    "            df = df.withColumn(column, F.col(column).cast(_dtypes))\n",
    "        elif _dtypes in [\"string\", \"timestamp\", \"boolean\"]:\n",
    "            df = df.withColumn(column, F.trim(F.col(column)).cast(_dtypes))\n",
    "\n",
    "    return df"
   ]
  },
  {
   "cell_type": "markdown",
   "metadata": {},
   "source": [
    "## Load file CSV that was write in another program ( write_csv.ipynb )"
   ]
  },
  {
   "cell_type": "code",
   "execution_count": 3,
   "metadata": {},
   "outputs": [],
   "source": [
    "def load_csv_spark(path):\n",
    "    \n",
    "    df = spark.read.csv(path, header=True)\n",
    "    \n",
    "    return df"
   ]
  },
  {
   "cell_type": "markdown",
   "metadata": {},
   "source": [
    "## Load mapping that has data types corret, primary key of data frame and column that garantees uniqueless of line. "
   ]
  },
  {
   "cell_type": "code",
   "execution_count": 4,
   "metadata": {},
   "outputs": [],
   "source": [
    "def load_mapping():\n",
    "    \n",
    "    list_col_dtypes = {\"id\": \"integer\",\n",
    "                       \"randow\": \"string\",\n",
    "                       \"update_timestamp\": \"timestamp\",\n",
    "                       \"boolean\": \"boolean\"}\n",
    "    \n",
    "    col_name_last_update = \"update_timestamp\"\n",
    "    \n",
    "    primary_key = [\"id\"]\n",
    "    \n",
    "    return [primary_key, col_name_last_update, list_col_dtypes]"
   ]
  },
  {
   "cell_type": "markdown",
   "metadata": {},
   "source": [
    "## Method for remove duplicity of dataframe"
   ]
  },
  {
   "cell_type": "code",
   "execution_count": 5,
   "metadata": {},
   "outputs": [],
   "source": [
    "def fix_duplicity(df, list_col_dtypes, primary_key, col_name_last_update):\n",
    "    \n",
    "    df = fix_dtypes(df, list_col_dtypes)\n",
    "    window = Window. \\\n",
    "        partitionBy(primary_key). \\\n",
    "        orderBy(df[col_name_last_update].asc())\n",
    "    _df = df.withColumn(\"rank_tmp\", F.row_number().over(window))\n",
    "    _df = _df.filter(\"rank_tmp=1\")\n",
    "    df = _df.drop(\"rank_tmp\")\n",
    "    \n",
    "    return df"
   ]
  },
  {
   "cell_type": "markdown",
   "metadata": {},
   "source": [
    "## Write file parquet in path"
   ]
  },
  {
   "cell_type": "code",
   "execution_count": 6,
   "metadata": {},
   "outputs": [],
   "source": [
    "def write_parquet(df, path):\n",
    "    \n",
    "    df.write.mode('overwrite').parquet(path)"
   ]
  },
  {
   "cell_type": "markdown",
   "metadata": {},
   "source": [
    "## Read file parquet in path"
   ]
  },
  {
   "cell_type": "code",
   "execution_count": 7,
   "metadata": {},
   "outputs": [],
   "source": [
    "def read_parquet(path):\n",
    "    \n",
    "    df = spark.read.parquet(path)\n",
    "    \n",
    "    return df"
   ]
  },
  {
   "cell_type": "markdown",
   "metadata": {},
   "source": [
    "## Method process that final code output time execution "
   ]
  },
  {
   "cell_type": "code",
   "execution_count": 8,
   "metadata": {},
   "outputs": [],
   "source": [
    "def process(number_rows):\n",
    "    #Read file in storage\n",
    "    path_csv = \"/home/jovyan/work/artifacts/data/input/users/generated_{}_rows.csv\".format(number_rows)\n",
    "\n",
    "    df = load_csv_spark(path_csv)\n",
    "\n",
    "    #Load mapping\n",
    "    data = load_mapping()\n",
    "\n",
    "    primary_key = data[0]\n",
    "    col_name_last_update = data[1]\n",
    "    list_col_dtypes = data[2]\n",
    "\n",
    "    #Duplicity in file - Fix\n",
    "    df = fix_duplicity(df, list_col_dtypes, primary_key, col_name_last_update)\n",
    "\n",
    "    path_parquet = \"/home/jovyan/work/artifacts/data/output/spark/\"\n",
    "\n",
    "    #Write parquet\n",
    "    write_parquet(df, path_parquet)\n",
    "\n",
    "    #Read parquet\n",
    "    df = read_parquet(path_parquet)\n",
    "    \n",
    "    return df"
   ]
  },
  {
   "cell_type": "markdown",
   "metadata": {},
   "source": [
    "## Call process and you put the number of line that you write file csv before."
   ]
  },
  {
   "cell_type": "code",
   "execution_count": 9,
   "metadata": {},
   "outputs": [
    {
     "name": "stdout",
     "output_type": "stream",
     "text": [
      "0:02:35.333882\n"
     ]
    }
   ],
   "source": [
    "start = datetime.now()\n",
    "number_rows = 20000000\n",
    "df = process(number_rows=number_rows)\n",
    "end = datetime.now()\n",
    "print(end - start)"
   ]
  },
  {
   "cell_type": "markdown",
   "metadata": {},
   "source": [
    "# Now we go use the output dataframe for explore some comands"
   ]
  },
  {
   "cell_type": "markdown",
   "metadata": {},
   "source": [
    "## Is this show data with order by column"
   ]
  },
  {
   "cell_type": "code",
   "execution_count": 10,
   "metadata": {},
   "outputs": [
    {
     "name": "stdout",
     "output_type": "stream",
     "text": [
      "+---+------------------------------------+--------------------------+-------+\n",
      "|id |randow                              |update_timestamp          |boolean|\n",
      "+---+------------------------------------+--------------------------+-------+\n",
      "|0  |80acc451-3dda-4425-81fb-ed1bb5617d98|2020-06-11 13:41:15.663773|false  |\n",
      "|1  |2bd2df11-da25-42c2-9ed2-326339260cec|2020-06-11 13:41:15.663795|true   |\n",
      "|2  |682e558e-767b-41ac-8672-ee14f8614cdc|2020-06-11 13:41:15.66381 |false  |\n",
      "|3  |1851419a-e4c8-4eb7-a5d5-ac27c6fd96a4|2020-06-11 13:41:15.663823|true   |\n",
      "|4  |657ee043-fe5d-462d-b946-2d2850fd45df|2020-06-11 13:41:15.663835|false  |\n",
      "|5  |f6488feb-0408-4d26-a2bc-c763c9b1deee|2020-06-11 13:41:15.663847|true   |\n",
      "|6  |10d626a0-fbc4-404c-a886-fc209e0a5371|2020-06-11 13:41:15.663858|false  |\n",
      "|7  |591dd58e-d060-489a-9382-099d174d5c71|2020-06-11 13:41:15.663869|true   |\n",
      "|8  |af1e40b3-f866-4484-91ba-dc61d918ddd0|2020-06-11 13:41:15.66388 |false  |\n",
      "|9  |88d4c9ec-3d11-4291-9e58-0690c8ef0dd0|2020-06-11 13:41:15.663899|true   |\n",
      "|10 |36241ef4-3909-4a37-b54d-6eb0c771cf76|2020-06-11 13:41:15.66398 |false  |\n",
      "|11 |f043eee5-0ddf-46bd-b282-56aab00ca32e|2020-06-11 13:41:15.664001|true   |\n",
      "|12 |613be70d-5401-4b39-9f53-c1c001a6d231|2020-06-11 13:41:15.664022|false  |\n",
      "|13 |2c42e413-c4ad-424b-b89a-de21b256201a|2020-06-11 13:41:15.66405 |true   |\n",
      "|14 |6f55a719-850a-4d90-8d8c-27acc23895ad|2020-06-11 13:41:15.664066|false  |\n",
      "|15 |84a81185-87ce-4acc-97eb-666b97b5b7e6|2020-06-11 13:41:15.664081|true   |\n",
      "|16 |e8012d94-8d49-4b3e-afb9-fd1b95e0f0fd|2020-06-11 13:41:15.664096|false  |\n",
      "|17 |6605756a-cc2d-4509-be00-10b99e60fcb7|2020-06-11 13:41:15.664112|true   |\n",
      "|18 |ca2294c7-fb23-41c4-a1f9-7187e81a922e|2020-06-11 13:41:15.664127|false  |\n",
      "|19 |958b2279-fdd8-43c0-a13f-1e54ce17a6df|2020-06-11 13:41:15.664143|true   |\n",
      "|20 |2e410548-1bf7-437f-b778-2d4ec394a165|2020-06-11 13:41:15.664158|false  |\n",
      "|21 |b817b13f-e430-49ef-882c-2904c19df272|2020-06-11 13:41:15.664174|true   |\n",
      "|22 |97f2c973-547c-4fc4-aa79-8259e7ffc6c8|2020-06-11 13:41:15.664188|false  |\n",
      "|23 |1b464810-451a-4780-bc9b-bce9ef971d51|2020-06-11 13:41:15.664204|true   |\n",
      "|24 |3c5f66b0-4551-4480-84ed-cf8a734e4b15|2020-06-11 13:41:15.664243|false  |\n",
      "|25 |5826022d-4bb1-415f-96c1-c533daea826f|2020-06-11 13:41:15.664264|true   |\n",
      "|26 |4c04e2a1-c577-46f4-b27e-d6efba6ab4b1|2020-06-11 13:41:15.664281|false  |\n",
      "|27 |b06cef02-24e3-47f4-9e66-13c1e2c215bc|2020-06-11 13:41:15.664296|true   |\n",
      "|28 |a6906ee0-d1d9-4f29-a083-b474e5c61434|2020-06-11 13:41:15.664311|false  |\n",
      "|29 |40b00cb2-deec-41dc-bee3-608b616dbecc|2020-06-11 13:41:15.664326|true   |\n",
      "|30 |9c759bdb-54ef-4796-88a6-66349c35103d|2020-06-11 13:41:15.664342|false  |\n",
      "|31 |b9ccfd88-2438-4568-8870-1e339e3557ed|2020-06-11 13:41:15.664357|true   |\n",
      "|32 |354c0aa8-c1b1-4ec9-9d7f-2f6345e0dbaa|2020-06-11 13:41:15.664372|false  |\n",
      "|33 |99a1b246-f1d2-494f-aa82-9200d180a647|2020-06-11 13:41:15.664386|true   |\n",
      "|34 |5349c592-0c56-4600-909e-ebb96d874d23|2020-06-11 13:41:15.664401|false  |\n",
      "|35 |d4cfbead-78ce-4fc0-a666-50b025bd00fe|2020-06-11 13:41:15.664415|true   |\n",
      "|36 |8798da83-a3fa-4861-bd98-6e53718dc944|2020-06-11 13:41:15.664431|false  |\n",
      "|37 |4983ae0b-0028-45be-be8c-60b89bfb3493|2020-06-11 13:41:15.664467|true   |\n",
      "|38 |d2683a02-1de6-49b3-a9c0-d97da4e37e6b|2020-06-11 13:41:15.664485|false  |\n",
      "|39 |b8434c94-a31c-47b9-a893-2f240fbeac73|2020-06-11 13:41:15.6645  |true   |\n",
      "|40 |0abd93b9-ee1e-4ab3-aab5-292f99313402|2020-06-11 13:41:15.664517|false  |\n",
      "|41 |c2c0d287-608d-4576-9741-9c934e4e037d|2020-06-11 13:41:15.664532|true   |\n",
      "|42 |4051deb2-aeed-4b2b-9cf2-2cf2d76b414c|2020-06-11 13:41:15.664548|false  |\n",
      "|43 |0a6aa31e-a29c-4336-81af-6eb0f8aad912|2020-06-11 13:41:15.664565|true   |\n",
      "|44 |2e2ffd99-0370-4f0f-87a8-e7ce4d060281|2020-06-11 13:41:15.664581|false  |\n",
      "|45 |4de9301e-0181-4760-a67a-4eeb8d9ec233|2020-06-11 13:41:15.664597|true   |\n",
      "|46 |ca2dda34-4c76-4a51-acbd-687098f422c1|2020-06-11 13:41:15.664613|false  |\n",
      "|47 |87e42d1c-744d-42f3-b52c-c83370c4eab1|2020-06-11 13:41:15.66463 |true   |\n",
      "|48 |a4412e11-ece5-41e0-a557-e5080da66487|2020-06-11 13:41:15.664646|false  |\n",
      "|49 |9a1b26c3-216a-4e31-a98a-4f6ee8cb23ab|2020-06-11 13:41:15.664662|true   |\n",
      "|50 |b68d4323-93d7-407e-b315-40a487b698f3|2020-06-11 13:41:15.664677|false  |\n",
      "|51 |11a4b449-061b-4af0-b350-2667634f2e5a|2020-06-11 13:41:15.664693|true   |\n",
      "|52 |5a038300-5c21-442e-94b4-e51b6f67d8cb|2020-06-11 13:41:15.664708|false  |\n",
      "|53 |ccbe0db3-07d4-412f-ad03-9711524213b6|2020-06-11 13:41:15.664724|true   |\n",
      "|54 |33bd8f0c-b222-4033-88f2-df21269466a4|2020-06-11 13:41:15.664739|false  |\n",
      "|55 |a5415f9f-a3b8-4900-908d-fc3072c7dee5|2020-06-11 13:41:15.664755|true   |\n",
      "|56 |2ecdee1c-65f7-452c-b58b-7689d9a2ae2e|2020-06-11 13:41:15.664772|false  |\n",
      "|57 |17682cc1-eb81-4830-8bb0-a7b7dab63f3d|2020-06-11 13:41:15.664788|true   |\n",
      "|58 |3fc46d9a-92e8-41b7-a1cd-4e533564ba6c|2020-06-11 13:41:15.664803|false  |\n",
      "|59 |b3be0d8b-0967-48c1-98e9-f0a23ecdf0dd|2020-06-11 13:41:15.664819|true   |\n",
      "|60 |fc2cad5a-6d43-49ff-9568-1e0334126445|2020-06-11 13:41:15.664836|false  |\n",
      "|61 |00d866f0-3b27-43f5-8cd5-b3b71373099c|2020-06-11 13:41:15.664858|true   |\n",
      "|62 |0481e817-2ed1-40bf-90ef-c7c574709a94|2020-06-11 13:41:15.664876|false  |\n",
      "|63 |adff42d7-203d-40fc-9e24-31a15375eb8f|2020-06-11 13:41:15.664893|true   |\n",
      "|64 |06d94ad3-edb6-4836-ac0c-dcbc7984352c|2020-06-11 13:41:15.66491 |false  |\n",
      "|65 |6146e4c1-34f4-4c43-8651-248e06411e87|2020-06-11 13:41:15.664926|true   |\n",
      "|66 |fb863fbc-a2c8-437a-9858-0a7350a8eddd|2020-06-11 13:41:15.664942|false  |\n",
      "|67 |0550a584-6fcb-472a-b109-aaddac7fc47f|2020-06-11 13:41:15.664958|true   |\n",
      "|68 |2f5ef745-b752-403e-9e8c-9bbe92a63bc7|2020-06-11 13:41:15.664974|false  |\n",
      "|69 |a7d30239-bca0-48cc-86a4-f11a839a1a79|2020-06-11 13:41:15.664991|true   |\n",
      "|70 |879803da-a924-4575-85c6-af33c3e3d1e9|2020-06-11 13:41:15.665007|false  |\n",
      "|71 |9411080b-86d0-4d76-a059-1a078b29a3f5|2020-06-11 13:41:15.665023|true   |\n",
      "|72 |f3dcddd5-9f37-449c-a613-7c3fcfcfee70|2020-06-11 13:41:15.665039|false  |\n",
      "|73 |39f153cc-b4e6-469d-a7fe-9ed5d7b0b08c|2020-06-11 13:41:15.665057|true   |\n",
      "|74 |f41270ef-2be4-4855-bbec-80cf321b19f6|2020-06-11 13:41:15.665072|false  |\n",
      "|75 |d89c80a9-2627-499f-8a69-91e568bf5367|2020-06-11 13:41:15.665087|true   |\n",
      "|76 |573d6bfe-7c91-414c-9dcf-8205b456cc8f|2020-06-11 13:41:15.665102|false  |\n",
      "|77 |97b80277-fdaf-421a-baec-74b353bad2ef|2020-06-11 13:41:15.665118|true   |\n",
      "|78 |4d3fbb95-dc22-4ee6-a596-be3d1fa97da9|2020-06-11 13:41:15.665132|false  |\n",
      "|79 |8f4e7a68-f115-4439-82c0-bb6efeaa6204|2020-06-11 13:41:15.665146|true   |\n",
      "|80 |a6f46c59-88f9-4988-80c5-60d2874ddf17|2020-06-11 13:41:15.665162|false  |\n",
      "|81 |34bfdba0-e49e-4022-9f27-57e03f7bd83c|2020-06-11 13:41:15.665177|true   |\n",
      "|82 |16156224-dbac-4f3f-82a1-91970867f6ce|2020-06-11 13:41:15.665191|false  |\n",
      "|83 |c4244b74-00e0-4fa2-bc1d-55bcc8fac713|2020-06-11 13:41:15.665208|true   |\n",
      "|84 |f7136161-94b6-449d-a5ca-9f8e32a4b355|2020-06-11 13:41:15.665255|false  |\n",
      "|85 |00acf3ae-7ac8-455c-a55c-7ebbba88731c|2020-06-11 13:41:15.665277|true   |\n",
      "|86 |8c1c3820-d1b0-40bd-97d1-79d8b3e1d6d2|2020-06-11 13:41:15.665294|false  |\n",
      "|87 |c7f4ee30-1b2f-4fee-9846-51a56af90504|2020-06-11 13:41:15.665311|true   |\n",
      "|88 |c9eef803-c1ed-4b0a-a8ca-d20d1164799e|2020-06-11 13:41:15.665327|false  |\n",
      "|89 |33890212-a1b8-401c-92e4-3633fa8260ad|2020-06-11 13:41:15.665345|true   |\n",
      "|90 |44f6101f-b844-4a8e-8f3d-0319b032873c|2020-06-11 13:41:15.665362|false  |\n",
      "|91 |89f9dd17-d800-4b3d-a79c-5b0eed74cf8b|2020-06-11 13:41:15.665379|true   |\n",
      "|92 |661a2c0e-1ee1-444b-8b33-4ad7ff7cebda|2020-06-11 13:41:15.665395|false  |\n",
      "|93 |b90682a3-dd90-4a2e-b2a3-7bb699ee2034|2020-06-11 13:41:15.66541 |true   |\n",
      "|94 |912a8876-9174-4f6e-a575-cc912ceb3fbc|2020-06-11 13:41:15.665427|false  |\n",
      "|95 |db1bc8d6-0c92-475f-969d-a0aa13a68d69|2020-06-11 13:41:15.665444|true   |\n",
      "|96 |f366770e-47dd-4653-9cbd-98dc223b5024|2020-06-11 13:41:15.665464|false  |\n",
      "|97 |e17b8beb-165b-4b1b-aaa8-6f3e876d62b2|2020-06-11 13:41:15.66548 |true   |\n",
      "|98 |67aab68c-8a54-4967-a2fe-1aff72af9ac2|2020-06-11 13:41:15.665496|false  |\n",
      "|99 |9cf36753-be1f-41d4-b676-fb288a238fff|2020-06-11 13:41:15.665512|true   |\n",
      "+---+------------------------------------+--------------------------+-------+\n",
      "only showing top 100 rows\n",
      "\n",
      "0:00:09.392099\n"
     ]
    }
   ],
   "source": [
    "start = datetime.now()\n",
    "df.alias(\"a\").orderBy(F.col(\"a.id\")).show(100, False)\n",
    "end = datetime.now()\n",
    "print(end - start)"
   ]
  },
  {
   "cell_type": "markdown",
   "metadata": {},
   "source": [
    "## Is this method show how you transformer DataFrame df in table at memory"
   ]
  },
  {
   "cell_type": "code",
   "execution_count": 11,
   "metadata": {},
   "outputs": [
    {
     "name": "stdout",
     "output_type": "stream",
     "text": [
      "0:00:00.049670\n"
     ]
    }
   ],
   "source": [
    "start = datetime.now()\n",
    "df.createOrReplaceTempView(\"df\")\n",
    "end = datetime.now()\n",
    "print(end - start)"
   ]
  },
  {
   "cell_type": "markdown",
   "metadata": {},
   "source": [
    "## Is this script use table created above in memory. You can use common sql"
   ]
  },
  {
   "cell_type": "code",
   "execution_count": 12,
   "metadata": {},
   "outputs": [
    {
     "name": "stdout",
     "output_type": "stream",
     "text": [
      "+---+------------------------------------+--------------------------+-------+\n",
      "|id |randow                              |update_timestamp          |boolean|\n",
      "+---+------------------------------------+--------------------------+-------+\n",
      "|0  |80acc451-3dda-4425-81fb-ed1bb5617d98|2020-06-11 13:41:15.663773|false  |\n",
      "|1  |2bd2df11-da25-42c2-9ed2-326339260cec|2020-06-11 13:41:15.663795|true   |\n",
      "|2  |682e558e-767b-41ac-8672-ee14f8614cdc|2020-06-11 13:41:15.66381 |false  |\n",
      "|3  |1851419a-e4c8-4eb7-a5d5-ac27c6fd96a4|2020-06-11 13:41:15.663823|true   |\n",
      "|4  |657ee043-fe5d-462d-b946-2d2850fd45df|2020-06-11 13:41:15.663835|false  |\n",
      "|5  |f6488feb-0408-4d26-a2bc-c763c9b1deee|2020-06-11 13:41:15.663847|true   |\n",
      "|6  |10d626a0-fbc4-404c-a886-fc209e0a5371|2020-06-11 13:41:15.663858|false  |\n",
      "|7  |591dd58e-d060-489a-9382-099d174d5c71|2020-06-11 13:41:15.663869|true   |\n",
      "|8  |af1e40b3-f866-4484-91ba-dc61d918ddd0|2020-06-11 13:41:15.66388 |false  |\n",
      "|9  |88d4c9ec-3d11-4291-9e58-0690c8ef0dd0|2020-06-11 13:41:15.663899|true   |\n",
      "|10 |36241ef4-3909-4a37-b54d-6eb0c771cf76|2020-06-11 13:41:15.66398 |false  |\n",
      "|11 |f043eee5-0ddf-46bd-b282-56aab00ca32e|2020-06-11 13:41:15.664001|true   |\n",
      "|12 |613be70d-5401-4b39-9f53-c1c001a6d231|2020-06-11 13:41:15.664022|false  |\n",
      "|13 |2c42e413-c4ad-424b-b89a-de21b256201a|2020-06-11 13:41:15.66405 |true   |\n",
      "|14 |6f55a719-850a-4d90-8d8c-27acc23895ad|2020-06-11 13:41:15.664066|false  |\n",
      "|15 |84a81185-87ce-4acc-97eb-666b97b5b7e6|2020-06-11 13:41:15.664081|true   |\n",
      "|16 |e8012d94-8d49-4b3e-afb9-fd1b95e0f0fd|2020-06-11 13:41:15.664096|false  |\n",
      "|17 |6605756a-cc2d-4509-be00-10b99e60fcb7|2020-06-11 13:41:15.664112|true   |\n",
      "|18 |ca2294c7-fb23-41c4-a1f9-7187e81a922e|2020-06-11 13:41:15.664127|false  |\n",
      "|19 |958b2279-fdd8-43c0-a13f-1e54ce17a6df|2020-06-11 13:41:15.664143|true   |\n",
      "|20 |2e410548-1bf7-437f-b778-2d4ec394a165|2020-06-11 13:41:15.664158|false  |\n",
      "|21 |b817b13f-e430-49ef-882c-2904c19df272|2020-06-11 13:41:15.664174|true   |\n",
      "|22 |97f2c973-547c-4fc4-aa79-8259e7ffc6c8|2020-06-11 13:41:15.664188|false  |\n",
      "|23 |1b464810-451a-4780-bc9b-bce9ef971d51|2020-06-11 13:41:15.664204|true   |\n",
      "|24 |3c5f66b0-4551-4480-84ed-cf8a734e4b15|2020-06-11 13:41:15.664243|false  |\n",
      "|25 |5826022d-4bb1-415f-96c1-c533daea826f|2020-06-11 13:41:15.664264|true   |\n",
      "|26 |4c04e2a1-c577-46f4-b27e-d6efba6ab4b1|2020-06-11 13:41:15.664281|false  |\n",
      "|27 |b06cef02-24e3-47f4-9e66-13c1e2c215bc|2020-06-11 13:41:15.664296|true   |\n",
      "|28 |a6906ee0-d1d9-4f29-a083-b474e5c61434|2020-06-11 13:41:15.664311|false  |\n",
      "|29 |40b00cb2-deec-41dc-bee3-608b616dbecc|2020-06-11 13:41:15.664326|true   |\n",
      "|30 |9c759bdb-54ef-4796-88a6-66349c35103d|2020-06-11 13:41:15.664342|false  |\n",
      "|31 |b9ccfd88-2438-4568-8870-1e339e3557ed|2020-06-11 13:41:15.664357|true   |\n",
      "|32 |354c0aa8-c1b1-4ec9-9d7f-2f6345e0dbaa|2020-06-11 13:41:15.664372|false  |\n",
      "|33 |99a1b246-f1d2-494f-aa82-9200d180a647|2020-06-11 13:41:15.664386|true   |\n",
      "|34 |5349c592-0c56-4600-909e-ebb96d874d23|2020-06-11 13:41:15.664401|false  |\n",
      "|35 |d4cfbead-78ce-4fc0-a666-50b025bd00fe|2020-06-11 13:41:15.664415|true   |\n",
      "|36 |8798da83-a3fa-4861-bd98-6e53718dc944|2020-06-11 13:41:15.664431|false  |\n",
      "|37 |4983ae0b-0028-45be-be8c-60b89bfb3493|2020-06-11 13:41:15.664467|true   |\n",
      "|38 |d2683a02-1de6-49b3-a9c0-d97da4e37e6b|2020-06-11 13:41:15.664485|false  |\n",
      "|39 |b8434c94-a31c-47b9-a893-2f240fbeac73|2020-06-11 13:41:15.6645  |true   |\n",
      "|40 |0abd93b9-ee1e-4ab3-aab5-292f99313402|2020-06-11 13:41:15.664517|false  |\n",
      "|41 |c2c0d287-608d-4576-9741-9c934e4e037d|2020-06-11 13:41:15.664532|true   |\n",
      "|42 |4051deb2-aeed-4b2b-9cf2-2cf2d76b414c|2020-06-11 13:41:15.664548|false  |\n",
      "|43 |0a6aa31e-a29c-4336-81af-6eb0f8aad912|2020-06-11 13:41:15.664565|true   |\n",
      "|44 |2e2ffd99-0370-4f0f-87a8-e7ce4d060281|2020-06-11 13:41:15.664581|false  |\n",
      "|45 |4de9301e-0181-4760-a67a-4eeb8d9ec233|2020-06-11 13:41:15.664597|true   |\n",
      "|46 |ca2dda34-4c76-4a51-acbd-687098f422c1|2020-06-11 13:41:15.664613|false  |\n",
      "|47 |87e42d1c-744d-42f3-b52c-c83370c4eab1|2020-06-11 13:41:15.66463 |true   |\n",
      "|48 |a4412e11-ece5-41e0-a557-e5080da66487|2020-06-11 13:41:15.664646|false  |\n",
      "|49 |9a1b26c3-216a-4e31-a98a-4f6ee8cb23ab|2020-06-11 13:41:15.664662|true   |\n",
      "|50 |b68d4323-93d7-407e-b315-40a487b698f3|2020-06-11 13:41:15.664677|false  |\n",
      "|51 |11a4b449-061b-4af0-b350-2667634f2e5a|2020-06-11 13:41:15.664693|true   |\n",
      "|52 |5a038300-5c21-442e-94b4-e51b6f67d8cb|2020-06-11 13:41:15.664708|false  |\n",
      "|53 |ccbe0db3-07d4-412f-ad03-9711524213b6|2020-06-11 13:41:15.664724|true   |\n",
      "|54 |33bd8f0c-b222-4033-88f2-df21269466a4|2020-06-11 13:41:15.664739|false  |\n",
      "|55 |a5415f9f-a3b8-4900-908d-fc3072c7dee5|2020-06-11 13:41:15.664755|true   |\n",
      "|56 |2ecdee1c-65f7-452c-b58b-7689d9a2ae2e|2020-06-11 13:41:15.664772|false  |\n",
      "|57 |17682cc1-eb81-4830-8bb0-a7b7dab63f3d|2020-06-11 13:41:15.664788|true   |\n",
      "|58 |3fc46d9a-92e8-41b7-a1cd-4e533564ba6c|2020-06-11 13:41:15.664803|false  |\n",
      "|59 |b3be0d8b-0967-48c1-98e9-f0a23ecdf0dd|2020-06-11 13:41:15.664819|true   |\n",
      "|60 |fc2cad5a-6d43-49ff-9568-1e0334126445|2020-06-11 13:41:15.664836|false  |\n",
      "|61 |00d866f0-3b27-43f5-8cd5-b3b71373099c|2020-06-11 13:41:15.664858|true   |\n",
      "|62 |0481e817-2ed1-40bf-90ef-c7c574709a94|2020-06-11 13:41:15.664876|false  |\n",
      "|63 |adff42d7-203d-40fc-9e24-31a15375eb8f|2020-06-11 13:41:15.664893|true   |\n",
      "|64 |06d94ad3-edb6-4836-ac0c-dcbc7984352c|2020-06-11 13:41:15.66491 |false  |\n",
      "|65 |6146e4c1-34f4-4c43-8651-248e06411e87|2020-06-11 13:41:15.664926|true   |\n",
      "|66 |fb863fbc-a2c8-437a-9858-0a7350a8eddd|2020-06-11 13:41:15.664942|false  |\n",
      "|67 |0550a584-6fcb-472a-b109-aaddac7fc47f|2020-06-11 13:41:15.664958|true   |\n",
      "|68 |2f5ef745-b752-403e-9e8c-9bbe92a63bc7|2020-06-11 13:41:15.664974|false  |\n",
      "|69 |a7d30239-bca0-48cc-86a4-f11a839a1a79|2020-06-11 13:41:15.664991|true   |\n",
      "|70 |879803da-a924-4575-85c6-af33c3e3d1e9|2020-06-11 13:41:15.665007|false  |\n",
      "|71 |9411080b-86d0-4d76-a059-1a078b29a3f5|2020-06-11 13:41:15.665023|true   |\n",
      "|72 |f3dcddd5-9f37-449c-a613-7c3fcfcfee70|2020-06-11 13:41:15.665039|false  |\n",
      "|73 |39f153cc-b4e6-469d-a7fe-9ed5d7b0b08c|2020-06-11 13:41:15.665057|true   |\n",
      "|74 |f41270ef-2be4-4855-bbec-80cf321b19f6|2020-06-11 13:41:15.665072|false  |\n",
      "|75 |d89c80a9-2627-499f-8a69-91e568bf5367|2020-06-11 13:41:15.665087|true   |\n",
      "|76 |573d6bfe-7c91-414c-9dcf-8205b456cc8f|2020-06-11 13:41:15.665102|false  |\n",
      "|77 |97b80277-fdaf-421a-baec-74b353bad2ef|2020-06-11 13:41:15.665118|true   |\n",
      "|78 |4d3fbb95-dc22-4ee6-a596-be3d1fa97da9|2020-06-11 13:41:15.665132|false  |\n",
      "|79 |8f4e7a68-f115-4439-82c0-bb6efeaa6204|2020-06-11 13:41:15.665146|true   |\n",
      "|80 |a6f46c59-88f9-4988-80c5-60d2874ddf17|2020-06-11 13:41:15.665162|false  |\n",
      "|81 |34bfdba0-e49e-4022-9f27-57e03f7bd83c|2020-06-11 13:41:15.665177|true   |\n",
      "|82 |16156224-dbac-4f3f-82a1-91970867f6ce|2020-06-11 13:41:15.665191|false  |\n",
      "|83 |c4244b74-00e0-4fa2-bc1d-55bcc8fac713|2020-06-11 13:41:15.665208|true   |\n",
      "|84 |f7136161-94b6-449d-a5ca-9f8e32a4b355|2020-06-11 13:41:15.665255|false  |\n",
      "|85 |00acf3ae-7ac8-455c-a55c-7ebbba88731c|2020-06-11 13:41:15.665277|true   |\n",
      "|86 |8c1c3820-d1b0-40bd-97d1-79d8b3e1d6d2|2020-06-11 13:41:15.665294|false  |\n",
      "|87 |c7f4ee30-1b2f-4fee-9846-51a56af90504|2020-06-11 13:41:15.665311|true   |\n",
      "|88 |c9eef803-c1ed-4b0a-a8ca-d20d1164799e|2020-06-11 13:41:15.665327|false  |\n",
      "|89 |33890212-a1b8-401c-92e4-3633fa8260ad|2020-06-11 13:41:15.665345|true   |\n",
      "|90 |44f6101f-b844-4a8e-8f3d-0319b032873c|2020-06-11 13:41:15.665362|false  |\n",
      "|91 |89f9dd17-d800-4b3d-a79c-5b0eed74cf8b|2020-06-11 13:41:15.665379|true   |\n",
      "|92 |661a2c0e-1ee1-444b-8b33-4ad7ff7cebda|2020-06-11 13:41:15.665395|false  |\n",
      "|93 |b90682a3-dd90-4a2e-b2a3-7bb699ee2034|2020-06-11 13:41:15.66541 |true   |\n",
      "|94 |912a8876-9174-4f6e-a575-cc912ceb3fbc|2020-06-11 13:41:15.665427|false  |\n",
      "|95 |db1bc8d6-0c92-475f-969d-a0aa13a68d69|2020-06-11 13:41:15.665444|true   |\n",
      "|96 |f366770e-47dd-4653-9cbd-98dc223b5024|2020-06-11 13:41:15.665464|false  |\n",
      "|97 |e17b8beb-165b-4b1b-aaa8-6f3e876d62b2|2020-06-11 13:41:15.66548 |true   |\n",
      "|98 |67aab68c-8a54-4967-a2fe-1aff72af9ac2|2020-06-11 13:41:15.665496|false  |\n",
      "|99 |9cf36753-be1f-41d4-b676-fb288a238fff|2020-06-11 13:41:15.665512|true   |\n",
      "+---+------------------------------------+--------------------------+-------+\n",
      "only showing top 100 rows\n",
      "\n",
      "0:00:09.618322\n"
     ]
    }
   ],
   "source": [
    "start = datetime.now()\n",
    "spark.sql(\"select * from df order by id\").show(100,False)\n",
    "end = datetime.now()\n",
    "print(end - start)"
   ]
  },
  {
   "cell_type": "markdown",
   "metadata": {},
   "source": [
    "## Is this script makes a count on the dataframe"
   ]
  },
  {
   "cell_type": "code",
   "execution_count": 13,
   "metadata": {},
   "outputs": [
    {
     "name": "stdout",
     "output_type": "stream",
     "text": [
      "number of line on the DF 20000000\n",
      "0:00:00.593011\n"
     ]
    }
   ],
   "source": [
    "start = datetime.now()\n",
    "print(\"number of lines on the DF {}\".format(df.count()))\n",
    "end = datetime.now()\n",
    "print(end - start)"
   ]
  },
  {
   "cell_type": "markdown",
   "metadata": {},
   "source": [
    "## With this command you can look how Spark mount your dataframe. You can compare with Pandas."
   ]
  },
  {
   "cell_type": "code",
   "execution_count": 14,
   "metadata": {},
   "outputs": [
    {
     "name": "stdout",
     "output_type": "stream",
     "text": [
      "176 ms ± 52.2 ms per loop (mean ± std. dev. of 7 runs, 1 loop each)\n"
     ]
    }
   ],
   "source": [
    "%%timeit\n",
    "path_csv = \"/home/jovyan/work/artifacts/data/input/users/generated_{}_rows.csv\".format(number_rows)\n",
    "df = load_csv_spark(path_csv)"
   ]
  },
  {
   "cell_type": "code",
   "execution_count": null,
   "metadata": {},
   "outputs": [],
   "source": []
  },
  {
   "cell_type": "code",
   "execution_count": null,
   "metadata": {},
   "outputs": [],
   "source": []
  },
  {
   "cell_type": "code",
   "execution_count": null,
   "metadata": {},
   "outputs": [],
   "source": []
  },
  {
   "cell_type": "code",
   "execution_count": null,
   "metadata": {},
   "outputs": [],
   "source": []
  },
  {
   "cell_type": "code",
   "execution_count": null,
   "metadata": {},
   "outputs": [],
   "source": []
  }
 ],
 "metadata": {
  "kernelspec": {
   "display_name": "Python 3",
   "language": "python",
   "name": "python3"
  },
  "language_info": {
   "codemirror_mode": {
    "name": "ipython",
    "version": 3
   },
   "file_extension": ".py",
   "mimetype": "text/x-python",
   "name": "python",
   "nbconvert_exporter": "python",
   "pygments_lexer": "ipython3",
   "version": "3.7.6"
  }
 },
 "nbformat": 4,
 "nbformat_minor": 4
}
