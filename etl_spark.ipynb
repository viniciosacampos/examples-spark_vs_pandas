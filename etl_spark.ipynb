{
 "cells": [
  {
   "cell_type": "markdown",
   "metadata": {},
   "source": [
    "# Basic program ETL Spark ( load, fix data types, fix duplicity, write and read) \n",
    "\n",
    "# for running all steps you need go menu Cell/RunAll\n",
    "\n",
    "# *\n",
    "\n",
    "# Starting\n",
    "\n",
    "# *\n",
    "\n",
    "\n",
    "\n"
   ]
  },
  {
   "cell_type": "markdown",
   "metadata": {},
   "source": [
    "## Import librarys and initial Spark "
   ]
  },
  {
   "cell_type": "code",
   "execution_count": 1,
   "metadata": {},
   "outputs": [
    {
     "name": "stdout",
     "output_type": "stream",
     "text": [
      "<SparkContext master=local appName=ETL>\n",
      "<pyspark.sql.context.SQLContext object at 0x7efca4217c90>\n"
     ]
    }
   ],
   "source": [
    "from pyspark import SparkConf, SparkContext, SQLContext\n",
    "from pyspark.sql import functions as F\n",
    "from pyspark.sql import Window\n",
    "import uuid\n",
    "from datetime import datetime\n",
    "conf = SparkConf().setAppName(\"ETL\").setMaster(\"local\")\n",
    "sc = SparkContext(conf=conf)\n",
    "spark = SQLContext(sc)\n",
    "logger = spark._jvm.org.apache.log4j\n",
    "print(sc)\n",
    "print(spark)"
   ]
  },
  {
   "cell_type": "markdown",
   "metadata": {},
   "source": [
    "## Method for convert data types from according map"
   ]
  },
  {
   "cell_type": "code",
   "execution_count": 2,
   "metadata": {},
   "outputs": [],
   "source": [
    "def fix_dtypes(df, list_col_dtypes):\n",
    "\n",
    "    dtypes = df.dtypes\n",
    "    for row in dtypes:\n",
    "        column = row[0]\n",
    "        _dtypes = list_col_dtypes.get(column)\n",
    "        if _dtypes is None:\n",
    "            raise Exception(\"Column {} type {} doesn't in mapping, please verify.\".format(column, _dtypes))\n",
    "\n",
    "        if (_dtypes in [\"double\", \"integer\", \"float\"]) | (_dtypes.find(\"decimal\") >= 0):\n",
    "            df = df.withColumn(column, F.when(F.trim(F.col(column)).isNull(), \"0\")\n",
    "                               .otherwise(F.trim(F.col(column))))\n",
    "            df = df.withColumn(column, F.col(column).cast(_dtypes))\n",
    "        elif _dtypes in [\"string\", \"timestamp\", \"boolean\"]:\n",
    "            df = df.withColumn(column, F.trim(F.col(column)).cast(_dtypes))\n",
    "\n",
    "    return df"
   ]
  },
  {
   "cell_type": "markdown",
   "metadata": {},
   "source": [
    "## Load file CSV that was write in another program ( write_csv.ipynb )"
   ]
  },
  {
   "cell_type": "code",
   "execution_count": 3,
   "metadata": {},
   "outputs": [],
   "source": [
    "def load_csv_spark(path):\n",
    "    \n",
    "    df = spark.read.csv(path, header=True)\n",
    "    \n",
    "    return df"
   ]
  },
  {
   "cell_type": "markdown",
   "metadata": {},
   "source": [
    "## Load mapping that has data types corret, primary key of data frame and column that garantees uniqueless of line. "
   ]
  },
  {
   "cell_type": "code",
   "execution_count": 4,
   "metadata": {},
   "outputs": [],
   "source": [
    "def load_mapping():\n",
    "    \n",
    "    list_col_dtypes = {\"id\": \"integer\",\n",
    "                       \"randow\": \"string\",\n",
    "                       \"update_timestamp\": \"timestamp\",\n",
    "                       \"boolean\": \"boolean\"}\n",
    "    \n",
    "    col_name_last_update = \"update_timestamp\"\n",
    "    \n",
    "    primary_key = [\"id\"]\n",
    "    \n",
    "    return [primary_key, col_name_last_update, list_col_dtypes]"
   ]
  },
  {
   "cell_type": "markdown",
   "metadata": {},
   "source": [
    "## Method for remove duplicity of dataframe"
   ]
  },
  {
   "cell_type": "code",
   "execution_count": 5,
   "metadata": {},
   "outputs": [],
   "source": [
    "def fix_duplicity(df, list_col_dtypes, primary_key, col_name_last_update):\n",
    "    \n",
    "    df = fix_dtypes(df, list_col_dtypes)\n",
    "    window = Window. \\\n",
    "        partitionBy(primary_key). \\\n",
    "        orderBy(df[col_name_last_update].asc())\n",
    "    _df = df.withColumn(\"rank_tmp\", F.row_number().over(window))\n",
    "    _df = _df.filter(\"rank_tmp=1\")\n",
    "    df = _df.drop(\"rank_tmp\")\n",
    "    \n",
    "    return df"
   ]
  },
  {
   "cell_type": "markdown",
   "metadata": {},
   "source": [
    "## Write file parquet in path"
   ]
  },
  {
   "cell_type": "code",
   "execution_count": 6,
   "metadata": {},
   "outputs": [],
   "source": [
    "def write_parquet(df, path):\n",
    "    \n",
    "    df.write.mode('overwrite').parquet(path)"
   ]
  },
  {
   "cell_type": "markdown",
   "metadata": {},
   "source": [
    "## Read file parquet in path"
   ]
  },
  {
   "cell_type": "code",
   "execution_count": 7,
   "metadata": {},
   "outputs": [],
   "source": [
    "def read_parquet(path):\n",
    "    \n",
    "    df = spark.read.parquet(path)\n",
    "    \n",
    "    return df"
   ]
  },
  {
   "cell_type": "markdown",
   "metadata": {},
   "source": [
    "## Method process that final code output time execution "
   ]
  },
  {
   "cell_type": "code",
   "execution_count": 8,
   "metadata": {},
   "outputs": [],
   "source": [
    "def process(number_rows):\n",
    "    #Read file in storage\n",
    "    path_csv = \"/home/jovyan/work/artifacts/data/input/users/generated_{}_rows.csv\".format(number_rows)\n",
    "\n",
    "    df = load_csv_spark(path_csv)\n",
    "\n",
    "    #Load mapping\n",
    "    data = load_mapping()\n",
    "\n",
    "    primary_key = data[0]\n",
    "    col_name_last_update = data[1]\n",
    "    list_col_dtypes = data[2]\n",
    "\n",
    "    #Duplicity in file - Fix\n",
    "    df = fix_duplicity(df, list_col_dtypes, primary_key, col_name_last_update)\n",
    "\n",
    "    path_parquet = \"/home/jovyan/work/artifacts/data/output/spark/\"\n",
    "\n",
    "    #Write parquet\n",
    "    write_parquet(df, path_parquet)\n",
    "\n",
    "    #Read parquet\n",
    "    df = read_parquet(path_parquet)\n",
    "    \n",
    "    return df"
   ]
  },
  {
   "cell_type": "markdown",
   "metadata": {},
   "source": [
    "## Call process and you put the number of line that you write file csv before."
   ]
  },
  {
   "cell_type": "code",
   "execution_count": 9,
   "metadata": {},
   "outputs": [
    {
     "name": "stdout",
     "output_type": "stream",
     "text": [
      "0:00:12.231312\n"
     ]
    }
   ],
   "source": [
    "start = datetime.now()\n",
    "df = process(number_rows=100)\n",
    "end = datetime.now()\n",
    "print(end - start)"
   ]
  },
  {
   "cell_type": "markdown",
   "metadata": {},
   "source": [
    "# Now we go use the output dataframe for explore some comands"
   ]
  },
  {
   "cell_type": "markdown",
   "metadata": {},
   "source": [
    "## Is this show data with order by column"
   ]
  },
  {
   "cell_type": "code",
   "execution_count": 10,
   "metadata": {},
   "outputs": [
    {
     "name": "stdout",
     "output_type": "stream",
     "text": [
      "+---+------------------------------------+--------------------------+-------+\n",
      "|id |randow                              |update_timestamp          |boolean|\n",
      "+---+------------------------------------+--------------------------+-------+\n",
      "|0  |43d8cb63-1517-4a88-be00-64765230cdda|2020-06-10 09:32:30.348379|false  |\n",
      "|1  |2a907d55-6d08-456d-ae29-365f5f487334|2020-06-10 09:32:30.348444|true   |\n",
      "|2  |7386f1cd-f447-4d2f-a21b-08dd9551322b|2020-06-10 09:32:30.348609|false  |\n",
      "|3  |5ea8c896-4e26-4f74-a452-536acbffa2a7|2020-06-10 09:32:30.348628|true   |\n",
      "|4  |7e7c8723-7302-489d-85cf-1814375d4a17|2020-06-10 09:32:30.34865 |false  |\n",
      "|5  |d724459d-d4ac-4301-b201-a511c62327bd|2020-06-10 09:32:30.348672|true   |\n",
      "|6  |77be4393-af62-4c7c-8f9d-d1961c5930e5|2020-06-10 09:32:30.348682|false  |\n",
      "|7  |8471d318-1db3-48ad-b848-f1d47be325ae|2020-06-10 09:32:30.348691|true   |\n",
      "|8  |c33c5742-1ea3-43e6-9b5f-9b933e0d1d05|2020-06-10 09:32:30.3487  |false  |\n",
      "|9  |dade68f6-cbb5-4e1f-8299-3ef2e3602a6c|2020-06-10 09:32:30.34871 |true   |\n",
      "|10 |9026e0b8-519a-4e38-a967-7fa145ab45fa|2020-06-10 09:32:30.348719|false  |\n",
      "|11 |aae1ad61-a06a-4aed-aab2-32ebe34e833f|2020-06-10 09:32:30.348728|true   |\n",
      "|12 |ab8a217e-8b90-4111-a6ce-e496e58bc508|2020-06-10 09:32:30.348737|false  |\n",
      "|13 |8389f6eb-1cc6-409d-99c4-715bb1cefc7b|2020-06-10 09:32:30.348746|true   |\n",
      "|14 |1af3ca51-5801-43c4-99f9-a95d7211682f|2020-06-10 09:32:30.348756|false  |\n",
      "|15 |02cd2dfc-2154-46c5-b7dc-305e8c437709|2020-06-10 09:32:30.348766|true   |\n",
      "|16 |45db93ea-79e8-4f68-b299-ae23f1f8e9f9|2020-06-10 09:32:30.348775|false  |\n",
      "|17 |401af45a-b216-4dc1-bf13-b0371a702513|2020-06-10 09:32:30.348785|true   |\n",
      "|18 |2da17fb6-fddc-4da2-b75e-620a37f066d1|2020-06-10 09:32:30.348794|false  |\n",
      "|19 |fe44cc69-3a21-468a-bb69-9adbae8efbb3|2020-06-10 09:32:30.348804|true   |\n",
      "|20 |6b8a6b84-c69b-47cd-a395-4b260bcbfc2a|2020-06-10 09:32:30.348813|false  |\n",
      "|21 |6c1b3aff-346b-4045-ad6a-94bca3ecbf4b|2020-06-10 09:32:30.348822|true   |\n",
      "|22 |02973dd5-cc8e-426a-a9bf-2ad161172796|2020-06-10 09:32:30.348832|false  |\n",
      "|23 |f208d3d0-1b82-4e0c-ac9b-ca738a444835|2020-06-10 09:32:30.348841|true   |\n",
      "|24 |c8a77cd2-9b9f-49bd-95e8-c87484932d93|2020-06-10 09:32:30.348857|false  |\n",
      "|25 |066b212b-ad82-4c13-9a42-3d82a05c856c|2020-06-10 09:32:30.348867|true   |\n",
      "|26 |d793676b-2825-4bcb-b4f2-1b5e94a68861|2020-06-10 09:32:30.348876|false  |\n",
      "|27 |b8a484ba-7886-448a-a2f3-045df3000a55|2020-06-10 09:32:30.348886|true   |\n",
      "|28 |6de7070a-6e20-44eb-8416-1715e2488d45|2020-06-10 09:32:30.348895|false  |\n",
      "|29 |175828f3-f692-4b0a-9c0f-fbe020ba0cce|2020-06-10 09:32:30.348904|true   |\n",
      "|30 |bed6e0e4-dd11-4424-9920-4fd6eecc5fee|2020-06-10 09:32:30.348939|false  |\n",
      "|31 |b9fb8105-fc22-4a33-bd63-05678d31d661|2020-06-10 09:32:30.348958|true   |\n",
      "|32 |447547d4-3f0f-47fe-b153-606077699ed7|2020-06-10 09:32:30.348968|false  |\n",
      "|33 |1493d6cb-fcff-4158-a6fd-977674dcc203|2020-06-10 09:32:30.348977|true   |\n",
      "|34 |dd064ec4-f4f8-49b0-86e9-8cd1cd7ef9d1|2020-06-10 09:32:30.348987|false  |\n",
      "|35 |5c6c2c2a-b3c2-4ee7-94f7-c72a1b248300|2020-06-10 09:32:30.348996|true   |\n",
      "|36 |af4922f0-46e9-41ef-afe0-9029fe766514|2020-06-10 09:32:30.349006|false  |\n",
      "|37 |cf758c92-3556-4b46-acd9-ab65db5fa600|2020-06-10 09:32:30.349015|true   |\n",
      "|38 |4cdc1830-611a-4718-822b-16dde37d2081|2020-06-10 09:32:30.349025|false  |\n",
      "|39 |acfa2a28-8218-4d4b-9eb1-e9af05e97e55|2020-06-10 09:32:30.349034|true   |\n",
      "|40 |b45233ae-2658-446b-99c0-ba1f0d56b75f|2020-06-10 09:32:30.349043|false  |\n",
      "|41 |a3f291d7-55a4-43db-bfd2-bc3dcbc861db|2020-06-10 09:32:30.349052|true   |\n",
      "|42 |a0647b34-841a-46b2-ae32-d5351691ea98|2020-06-10 09:32:30.349062|false  |\n",
      "|43 |02856c61-de33-4ca0-be3d-0023f22a0afd|2020-06-10 09:32:30.349071|true   |\n",
      "|44 |08719104-3ed7-4364-9d1d-c0e478add8ef|2020-06-10 09:32:30.349087|false  |\n",
      "|45 |0a3bd91c-de10-4182-892e-875c6db1c532|2020-06-10 09:32:30.349097|true   |\n",
      "|46 |646edc0c-0b53-4a5c-b1de-34301595c0f2|2020-06-10 09:32:30.349107|false  |\n",
      "|47 |d2c37acc-5fda-4e3e-beb0-1891a724f03c|2020-06-10 09:32:30.349116|true   |\n",
      "|48 |13b90e85-5bc5-4894-b0f4-15089ee153bb|2020-06-10 09:32:30.349125|false  |\n",
      "|49 |95138248-b163-4e9f-8fc1-519c4cd38105|2020-06-10 09:32:30.349153|true   |\n",
      "|50 |1a96fa45-6467-487f-8f20-52baab13b026|2020-06-10 09:32:30.349168|false  |\n",
      "|51 |371ce14c-4d83-4d50-bf40-980b2d013c61|2020-06-10 09:32:30.349182|true   |\n",
      "|52 |949807d5-6044-4d81-ba37-2025de55fe2d|2020-06-10 09:32:30.349196|false  |\n",
      "|53 |a83cc9a3-9797-456f-be7d-40b5790b3550|2020-06-10 09:32:30.349208|true   |\n",
      "|54 |ab039669-29a9-4da9-b5aa-712afe4469ea|2020-06-10 09:32:30.349219|false  |\n",
      "|55 |34eb0e4a-5cd5-4774-9646-b2d9bb072a9e|2020-06-10 09:32:30.349228|true   |\n",
      "|56 |f1ab97f1-f39f-475d-919d-4b4836459592|2020-06-10 09:32:30.349237|false  |\n",
      "|57 |b6e46cf9-a87d-4398-be4e-2eb4f1213178|2020-06-10 09:32:30.349247|true   |\n",
      "|58 |1bdb5a24-883e-4ce3-8815-5898a7a5aa8c|2020-06-10 09:32:30.349256|false  |\n",
      "|59 |7924f4a5-ca15-44b5-b4e4-9e8b9128ba2d|2020-06-10 09:32:30.349266|true   |\n",
      "|60 |dd23313c-99b5-41e5-ba89-8e79e5daa745|2020-06-10 09:32:30.349275|false  |\n",
      "|61 |5d81f381-c8ee-4520-8b19-103feb9eb734|2020-06-10 09:32:30.349284|true   |\n",
      "|62 |9bc7062a-5f48-4597-b7bf-cd494005fc7c|2020-06-10 09:32:30.349297|false  |\n",
      "|63 |d1725ef6-5ea3-4617-a61b-5fbce8f46abf|2020-06-10 09:32:30.349307|true   |\n",
      "|64 |0bca7b6f-5829-42a8-8f51-a468ecd1fea6|2020-06-10 09:32:30.349317|false  |\n",
      "|65 |5c9fb801-aaf1-4212-aa51-01bd881e5078|2020-06-10 09:32:30.349326|true   |\n",
      "|66 |640adb6f-4743-41db-8310-85d70a15b10b|2020-06-10 09:32:30.349336|false  |\n",
      "|67 |f23716a2-cc49-4f40-ab53-abd2dac019a4|2020-06-10 09:32:30.349345|true   |\n",
      "|68 |bcdcfb3a-5ca7-49a1-bda0-7780fa1ccc88|2020-06-10 09:32:30.349355|false  |\n",
      "|69 |cf5c5cf6-a51a-4fd4-95d6-520b48f5b8d1|2020-06-10 09:32:30.349364|true   |\n",
      "|70 |ea97800b-c6bc-4a76-b944-3ba9e0a2c55f|2020-06-10 09:32:30.349374|false  |\n",
      "|71 |db13d107-9fdd-4f6e-8aee-4496bac57b90|2020-06-10 09:32:30.349383|true   |\n",
      "|72 |652b1430-9309-44e4-83ba-fc25c9cf7945|2020-06-10 09:32:30.349393|false  |\n",
      "|73 |46c484b8-4710-4886-a6dd-a9583bd174fa|2020-06-10 09:32:30.349403|true   |\n",
      "|74 |43df2071-f47d-4002-89b3-16cf58ef0816|2020-06-10 09:32:30.349413|false  |\n",
      "|75 |750f34ba-095e-40c9-8db1-47937b71ab38|2020-06-10 09:32:30.349422|true   |\n",
      "|76 |8c0239fd-279f-40be-a8c8-8e16feccd8cb|2020-06-10 09:32:30.349432|false  |\n",
      "|77 |5ab75c25-002a-4df1-a358-162139e8db08|2020-06-10 09:32:30.349441|true   |\n",
      "|78 |10c7c82b-c62d-457e-ba6d-ebec10584b20|2020-06-10 09:32:30.349451|false  |\n",
      "|79 |f307a97c-6c87-4802-b667-75aeb6db5203|2020-06-10 09:32:30.349461|true   |\n",
      "|80 |a91ea3c8-e61a-4f65-88d6-609996331d52|2020-06-10 09:32:30.34947 |false  |\n",
      "|81 |85018f5d-5c59-4683-b61d-add4a543f85b|2020-06-10 09:32:30.34948 |true   |\n",
      "|82 |e3edc104-12ae-4383-8291-c6d5aec5a1c0|2020-06-10 09:32:30.349489|false  |\n",
      "|83 |3ad0f658-7619-48ed-bf77-6b91c887f94c|2020-06-10 09:32:30.349499|true   |\n",
      "|84 |b670be99-5d5d-4bc4-ad75-64c3d903445c|2020-06-10 09:32:30.349508|false  |\n",
      "|85 |319a2da8-cf16-433b-afad-345d6bb923a1|2020-06-10 09:32:30.349523|true   |\n",
      "|86 |70c1a2e9-6a60-4eb6-9e88-de186e9464d9|2020-06-10 09:32:30.349536|false  |\n",
      "|87 |8f08d54d-9972-4be5-8d0e-a93a93abbe06|2020-06-10 09:32:30.349546|true   |\n",
      "|88 |b7ef2e71-d053-448c-bb57-fe9630d10332|2020-06-10 09:32:30.349555|false  |\n",
      "|89 |8e6d7117-5228-4033-95a3-884bb69af285|2020-06-10 09:32:30.349565|true   |\n",
      "|90 |7453847b-2134-4b50-aabe-b5b2e4a6cd3a|2020-06-10 09:32:30.349574|false  |\n",
      "|91 |8fc837cb-c3d6-4a90-931d-2efe2f684dac|2020-06-10 09:32:30.349584|true   |\n",
      "|92 |f0b6d0cc-6188-40a5-8278-06e725e21f86|2020-06-10 09:32:30.349593|false  |\n",
      "|93 |8d6b6c6f-7b08-4669-8e3f-efd4e0b75b39|2020-06-10 09:32:30.349603|true   |\n",
      "|94 |c15b78c8-b8a8-41bb-992c-ea8a60b76ee4|2020-06-10 09:32:30.349612|false  |\n",
      "|95 |ad57cb44-6f6d-44e1-8aa0-e1fd3c31737a|2020-06-10 09:32:30.349622|true   |\n",
      "|96 |b748e1f1-3a2a-4026-9097-095e5ff8d19b|2020-06-10 09:32:30.349633|false  |\n",
      "|97 |b42b5f22-f921-4e51-828d-bc4c9bbe9755|2020-06-10 09:32:30.349643|true   |\n",
      "|98 |8df9b6ec-db48-4f65-a5e4-c0e3233c6534|2020-06-10 09:32:30.349653|false  |\n",
      "|99 |b0b61459-1679-49f0-8729-4295fb92267f|2020-06-10 09:32:30.349662|true   |\n",
      "+---+------------------------------------+--------------------------+-------+\n",
      "\n",
      "0:00:00.700758\n"
     ]
    }
   ],
   "source": [
    "start = datetime.now()\n",
    "df.alias(\"a\").orderBy(F.col(\"a.id\")).show(100, False)\n",
    "end = datetime.now()\n",
    "print(end - start)"
   ]
  },
  {
   "cell_type": "markdown",
   "metadata": {},
   "source": [
    "## Is this method show how you transformer DataFrame df in table at memory"
   ]
  },
  {
   "cell_type": "code",
   "execution_count": 11,
   "metadata": {},
   "outputs": [
    {
     "name": "stdout",
     "output_type": "stream",
     "text": [
      "0:00:00.037403\n"
     ]
    }
   ],
   "source": [
    "start = datetime.now()\n",
    "df.createOrReplaceTempView(\"df\")\n",
    "end = datetime.now()\n",
    "print(end - start)"
   ]
  },
  {
   "cell_type": "markdown",
   "metadata": {},
   "source": [
    "## Is this script use table created above in memory. You can use common sql"
   ]
  },
  {
   "cell_type": "code",
   "execution_count": 12,
   "metadata": {},
   "outputs": [
    {
     "name": "stdout",
     "output_type": "stream",
     "text": [
      "+---+------------------------------------+--------------------------+-------+\n",
      "|id |randow                              |update_timestamp          |boolean|\n",
      "+---+------------------------------------+--------------------------+-------+\n",
      "|0  |43d8cb63-1517-4a88-be00-64765230cdda|2020-06-10 09:32:30.348379|false  |\n",
      "|1  |2a907d55-6d08-456d-ae29-365f5f487334|2020-06-10 09:32:30.348444|true   |\n",
      "|2  |7386f1cd-f447-4d2f-a21b-08dd9551322b|2020-06-10 09:32:30.348609|false  |\n",
      "|3  |5ea8c896-4e26-4f74-a452-536acbffa2a7|2020-06-10 09:32:30.348628|true   |\n",
      "|4  |7e7c8723-7302-489d-85cf-1814375d4a17|2020-06-10 09:32:30.34865 |false  |\n",
      "|5  |d724459d-d4ac-4301-b201-a511c62327bd|2020-06-10 09:32:30.348672|true   |\n",
      "|6  |77be4393-af62-4c7c-8f9d-d1961c5930e5|2020-06-10 09:32:30.348682|false  |\n",
      "|7  |8471d318-1db3-48ad-b848-f1d47be325ae|2020-06-10 09:32:30.348691|true   |\n",
      "|8  |c33c5742-1ea3-43e6-9b5f-9b933e0d1d05|2020-06-10 09:32:30.3487  |false  |\n",
      "|9  |dade68f6-cbb5-4e1f-8299-3ef2e3602a6c|2020-06-10 09:32:30.34871 |true   |\n",
      "|10 |9026e0b8-519a-4e38-a967-7fa145ab45fa|2020-06-10 09:32:30.348719|false  |\n",
      "|11 |aae1ad61-a06a-4aed-aab2-32ebe34e833f|2020-06-10 09:32:30.348728|true   |\n",
      "|12 |ab8a217e-8b90-4111-a6ce-e496e58bc508|2020-06-10 09:32:30.348737|false  |\n",
      "|13 |8389f6eb-1cc6-409d-99c4-715bb1cefc7b|2020-06-10 09:32:30.348746|true   |\n",
      "|14 |1af3ca51-5801-43c4-99f9-a95d7211682f|2020-06-10 09:32:30.348756|false  |\n",
      "|15 |02cd2dfc-2154-46c5-b7dc-305e8c437709|2020-06-10 09:32:30.348766|true   |\n",
      "|16 |45db93ea-79e8-4f68-b299-ae23f1f8e9f9|2020-06-10 09:32:30.348775|false  |\n",
      "|17 |401af45a-b216-4dc1-bf13-b0371a702513|2020-06-10 09:32:30.348785|true   |\n",
      "|18 |2da17fb6-fddc-4da2-b75e-620a37f066d1|2020-06-10 09:32:30.348794|false  |\n",
      "|19 |fe44cc69-3a21-468a-bb69-9adbae8efbb3|2020-06-10 09:32:30.348804|true   |\n",
      "|20 |6b8a6b84-c69b-47cd-a395-4b260bcbfc2a|2020-06-10 09:32:30.348813|false  |\n",
      "|21 |6c1b3aff-346b-4045-ad6a-94bca3ecbf4b|2020-06-10 09:32:30.348822|true   |\n",
      "|22 |02973dd5-cc8e-426a-a9bf-2ad161172796|2020-06-10 09:32:30.348832|false  |\n",
      "|23 |f208d3d0-1b82-4e0c-ac9b-ca738a444835|2020-06-10 09:32:30.348841|true   |\n",
      "|24 |c8a77cd2-9b9f-49bd-95e8-c87484932d93|2020-06-10 09:32:30.348857|false  |\n",
      "|25 |066b212b-ad82-4c13-9a42-3d82a05c856c|2020-06-10 09:32:30.348867|true   |\n",
      "|26 |d793676b-2825-4bcb-b4f2-1b5e94a68861|2020-06-10 09:32:30.348876|false  |\n",
      "|27 |b8a484ba-7886-448a-a2f3-045df3000a55|2020-06-10 09:32:30.348886|true   |\n",
      "|28 |6de7070a-6e20-44eb-8416-1715e2488d45|2020-06-10 09:32:30.348895|false  |\n",
      "|29 |175828f3-f692-4b0a-9c0f-fbe020ba0cce|2020-06-10 09:32:30.348904|true   |\n",
      "|30 |bed6e0e4-dd11-4424-9920-4fd6eecc5fee|2020-06-10 09:32:30.348939|false  |\n",
      "|31 |b9fb8105-fc22-4a33-bd63-05678d31d661|2020-06-10 09:32:30.348958|true   |\n",
      "|32 |447547d4-3f0f-47fe-b153-606077699ed7|2020-06-10 09:32:30.348968|false  |\n",
      "|33 |1493d6cb-fcff-4158-a6fd-977674dcc203|2020-06-10 09:32:30.348977|true   |\n",
      "|34 |dd064ec4-f4f8-49b0-86e9-8cd1cd7ef9d1|2020-06-10 09:32:30.348987|false  |\n",
      "|35 |5c6c2c2a-b3c2-4ee7-94f7-c72a1b248300|2020-06-10 09:32:30.348996|true   |\n",
      "|36 |af4922f0-46e9-41ef-afe0-9029fe766514|2020-06-10 09:32:30.349006|false  |\n",
      "|37 |cf758c92-3556-4b46-acd9-ab65db5fa600|2020-06-10 09:32:30.349015|true   |\n",
      "|38 |4cdc1830-611a-4718-822b-16dde37d2081|2020-06-10 09:32:30.349025|false  |\n",
      "|39 |acfa2a28-8218-4d4b-9eb1-e9af05e97e55|2020-06-10 09:32:30.349034|true   |\n",
      "|40 |b45233ae-2658-446b-99c0-ba1f0d56b75f|2020-06-10 09:32:30.349043|false  |\n",
      "|41 |a3f291d7-55a4-43db-bfd2-bc3dcbc861db|2020-06-10 09:32:30.349052|true   |\n",
      "|42 |a0647b34-841a-46b2-ae32-d5351691ea98|2020-06-10 09:32:30.349062|false  |\n",
      "|43 |02856c61-de33-4ca0-be3d-0023f22a0afd|2020-06-10 09:32:30.349071|true   |\n",
      "|44 |08719104-3ed7-4364-9d1d-c0e478add8ef|2020-06-10 09:32:30.349087|false  |\n",
      "|45 |0a3bd91c-de10-4182-892e-875c6db1c532|2020-06-10 09:32:30.349097|true   |\n",
      "|46 |646edc0c-0b53-4a5c-b1de-34301595c0f2|2020-06-10 09:32:30.349107|false  |\n",
      "|47 |d2c37acc-5fda-4e3e-beb0-1891a724f03c|2020-06-10 09:32:30.349116|true   |\n",
      "|48 |13b90e85-5bc5-4894-b0f4-15089ee153bb|2020-06-10 09:32:30.349125|false  |\n",
      "|49 |95138248-b163-4e9f-8fc1-519c4cd38105|2020-06-10 09:32:30.349153|true   |\n",
      "|50 |1a96fa45-6467-487f-8f20-52baab13b026|2020-06-10 09:32:30.349168|false  |\n",
      "|51 |371ce14c-4d83-4d50-bf40-980b2d013c61|2020-06-10 09:32:30.349182|true   |\n",
      "|52 |949807d5-6044-4d81-ba37-2025de55fe2d|2020-06-10 09:32:30.349196|false  |\n",
      "|53 |a83cc9a3-9797-456f-be7d-40b5790b3550|2020-06-10 09:32:30.349208|true   |\n",
      "|54 |ab039669-29a9-4da9-b5aa-712afe4469ea|2020-06-10 09:32:30.349219|false  |\n",
      "|55 |34eb0e4a-5cd5-4774-9646-b2d9bb072a9e|2020-06-10 09:32:30.349228|true   |\n",
      "|56 |f1ab97f1-f39f-475d-919d-4b4836459592|2020-06-10 09:32:30.349237|false  |\n",
      "|57 |b6e46cf9-a87d-4398-be4e-2eb4f1213178|2020-06-10 09:32:30.349247|true   |\n",
      "|58 |1bdb5a24-883e-4ce3-8815-5898a7a5aa8c|2020-06-10 09:32:30.349256|false  |\n",
      "|59 |7924f4a5-ca15-44b5-b4e4-9e8b9128ba2d|2020-06-10 09:32:30.349266|true   |\n",
      "|60 |dd23313c-99b5-41e5-ba89-8e79e5daa745|2020-06-10 09:32:30.349275|false  |\n",
      "|61 |5d81f381-c8ee-4520-8b19-103feb9eb734|2020-06-10 09:32:30.349284|true   |\n",
      "|62 |9bc7062a-5f48-4597-b7bf-cd494005fc7c|2020-06-10 09:32:30.349297|false  |\n",
      "|63 |d1725ef6-5ea3-4617-a61b-5fbce8f46abf|2020-06-10 09:32:30.349307|true   |\n",
      "|64 |0bca7b6f-5829-42a8-8f51-a468ecd1fea6|2020-06-10 09:32:30.349317|false  |\n",
      "|65 |5c9fb801-aaf1-4212-aa51-01bd881e5078|2020-06-10 09:32:30.349326|true   |\n",
      "|66 |640adb6f-4743-41db-8310-85d70a15b10b|2020-06-10 09:32:30.349336|false  |\n",
      "|67 |f23716a2-cc49-4f40-ab53-abd2dac019a4|2020-06-10 09:32:30.349345|true   |\n",
      "|68 |bcdcfb3a-5ca7-49a1-bda0-7780fa1ccc88|2020-06-10 09:32:30.349355|false  |\n",
      "|69 |cf5c5cf6-a51a-4fd4-95d6-520b48f5b8d1|2020-06-10 09:32:30.349364|true   |\n",
      "|70 |ea97800b-c6bc-4a76-b944-3ba9e0a2c55f|2020-06-10 09:32:30.349374|false  |\n",
      "|71 |db13d107-9fdd-4f6e-8aee-4496bac57b90|2020-06-10 09:32:30.349383|true   |\n",
      "|72 |652b1430-9309-44e4-83ba-fc25c9cf7945|2020-06-10 09:32:30.349393|false  |\n",
      "|73 |46c484b8-4710-4886-a6dd-a9583bd174fa|2020-06-10 09:32:30.349403|true   |\n",
      "|74 |43df2071-f47d-4002-89b3-16cf58ef0816|2020-06-10 09:32:30.349413|false  |\n",
      "|75 |750f34ba-095e-40c9-8db1-47937b71ab38|2020-06-10 09:32:30.349422|true   |\n",
      "|76 |8c0239fd-279f-40be-a8c8-8e16feccd8cb|2020-06-10 09:32:30.349432|false  |\n",
      "|77 |5ab75c25-002a-4df1-a358-162139e8db08|2020-06-10 09:32:30.349441|true   |\n",
      "|78 |10c7c82b-c62d-457e-ba6d-ebec10584b20|2020-06-10 09:32:30.349451|false  |\n",
      "|79 |f307a97c-6c87-4802-b667-75aeb6db5203|2020-06-10 09:32:30.349461|true   |\n",
      "|80 |a91ea3c8-e61a-4f65-88d6-609996331d52|2020-06-10 09:32:30.34947 |false  |\n",
      "|81 |85018f5d-5c59-4683-b61d-add4a543f85b|2020-06-10 09:32:30.34948 |true   |\n",
      "|82 |e3edc104-12ae-4383-8291-c6d5aec5a1c0|2020-06-10 09:32:30.349489|false  |\n",
      "|83 |3ad0f658-7619-48ed-bf77-6b91c887f94c|2020-06-10 09:32:30.349499|true   |\n",
      "|84 |b670be99-5d5d-4bc4-ad75-64c3d903445c|2020-06-10 09:32:30.349508|false  |\n",
      "|85 |319a2da8-cf16-433b-afad-345d6bb923a1|2020-06-10 09:32:30.349523|true   |\n",
      "|86 |70c1a2e9-6a60-4eb6-9e88-de186e9464d9|2020-06-10 09:32:30.349536|false  |\n",
      "|87 |8f08d54d-9972-4be5-8d0e-a93a93abbe06|2020-06-10 09:32:30.349546|true   |\n",
      "|88 |b7ef2e71-d053-448c-bb57-fe9630d10332|2020-06-10 09:32:30.349555|false  |\n",
      "|89 |8e6d7117-5228-4033-95a3-884bb69af285|2020-06-10 09:32:30.349565|true   |\n",
      "|90 |7453847b-2134-4b50-aabe-b5b2e4a6cd3a|2020-06-10 09:32:30.349574|false  |\n",
      "|91 |8fc837cb-c3d6-4a90-931d-2efe2f684dac|2020-06-10 09:32:30.349584|true   |\n",
      "|92 |f0b6d0cc-6188-40a5-8278-06e725e21f86|2020-06-10 09:32:30.349593|false  |\n",
      "|93 |8d6b6c6f-7b08-4669-8e3f-efd4e0b75b39|2020-06-10 09:32:30.349603|true   |\n",
      "|94 |c15b78c8-b8a8-41bb-992c-ea8a60b76ee4|2020-06-10 09:32:30.349612|false  |\n",
      "|95 |ad57cb44-6f6d-44e1-8aa0-e1fd3c31737a|2020-06-10 09:32:30.349622|true   |\n",
      "|96 |b748e1f1-3a2a-4026-9097-095e5ff8d19b|2020-06-10 09:32:30.349633|false  |\n",
      "|97 |b42b5f22-f921-4e51-828d-bc4c9bbe9755|2020-06-10 09:32:30.349643|true   |\n",
      "|98 |8df9b6ec-db48-4f65-a5e4-c0e3233c6534|2020-06-10 09:32:30.349653|false  |\n",
      "|99 |b0b61459-1679-49f0-8729-4295fb92267f|2020-06-10 09:32:30.349662|true   |\n",
      "+---+------------------------------------+--------------------------+-------+\n",
      "\n",
      "0:00:00.503042\n"
     ]
    }
   ],
   "source": [
    "start = datetime.now()\n",
    "spark.sql(\"select * from df order by id\").show(100,False)\n",
    "end = datetime.now()\n",
    "print(end - start)"
   ]
  },
  {
   "cell_type": "markdown",
   "metadata": {},
   "source": [
    "## Is this script makes a count on the dataframe"
   ]
  },
  {
   "cell_type": "code",
   "execution_count": 13,
   "metadata": {},
   "outputs": [
    {
     "name": "stdout",
     "output_type": "stream",
     "text": [
      "number of line on the DF 100\n",
      "0:00:00.275248\n"
     ]
    }
   ],
   "source": [
    "start = datetime.now()\n",
    "print(\"number of line on the DF {}\".format(df.count()))\n",
    "end = datetime.now()\n",
    "print(end - start)"
   ]
  },
  {
   "cell_type": "code",
   "execution_count": null,
   "metadata": {},
   "outputs": [],
   "source": []
  },
  {
   "cell_type": "code",
   "execution_count": null,
   "metadata": {},
   "outputs": [],
   "source": []
  },
  {
   "cell_type": "code",
   "execution_count": null,
   "metadata": {},
   "outputs": [],
   "source": []
  },
  {
   "cell_type": "code",
   "execution_count": null,
   "metadata": {},
   "outputs": [],
   "source": []
  },
  {
   "cell_type": "code",
   "execution_count": null,
   "metadata": {},
   "outputs": [],
   "source": []
  },
  {
   "cell_type": "code",
   "execution_count": null,
   "metadata": {},
   "outputs": [],
   "source": []
  }
 ],
 "metadata": {
  "kernelspec": {
   "display_name": "Python 3",
   "language": "python",
   "name": "python3"
  },
  "language_info": {
   "codemirror_mode": {
    "name": "ipython",
    "version": 3
   },
   "file_extension": ".py",
   "mimetype": "text/x-python",
   "name": "python",
   "nbconvert_exporter": "python",
   "pygments_lexer": "ipython3",
   "version": "3.7.6"
  }
 },
 "nbformat": 4,
 "nbformat_minor": 4
}
